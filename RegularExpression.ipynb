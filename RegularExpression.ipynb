{
 "cells": [
  {
   "cell_type": "code",
   "execution_count": 1,
   "id": "0890cf11-4427-44ec-8d80-fc399a2790e3",
   "metadata": {
    "tags": []
   },
   "outputs": [],
   "source": [
    "import re"
   ]
  },
  {
   "cell_type": "code",
   "execution_count": 3,
   "id": "199bad79-7cb1-47b5-b79d-3ebb1cdb37ef",
   "metadata": {
    "tags": []
   },
   "outputs": [],
   "source": [
    "string=\"amr ahmed negm abc 120r aj56 negm67 amr@gmail.com\""
   ]
  },
  {
   "cell_type": "code",
   "execution_count": 4,
   "id": "580fff23-1274-42de-90bd-e86714158db4",
   "metadata": {
    "tags": []
   },
   "outputs": [
    {
     "name": "stdout",
     "output_type": "stream",
     "text": [
      "<re.Match object; span=(0, 3), match='amr'>\n",
      "<re.Match object; span=(36, 39), match='amr'>\n"
     ]
    }
   ],
   "source": [
    "pattern=re.compile(\"amr\")\n",
    "matches=pattern.finditer(string)\n",
    "for match in matches:\n",
    "    print(match)"
   ]
  },
  {
   "cell_type": "code",
   "execution_count": 17,
   "id": "fca8b732-fee3-4bf4-b43e-f47272238540",
   "metadata": {
    "tags": []
   },
   "outputs": [
    {
     "name": "stdout",
     "output_type": "stream",
     "text": [
      "Amr Negm 01098189987 amrahmednegm153@gmail.com Ahmed Negm 01001550442 arnegm67@gmail.com Sara Ahmed 01264599999 saraahmed@hotmail.com Mohamed Salah 01100020400 mosalah@gmail.com Adel Shakal 01001219187 adel_shakal@yahoo.com\n",
      "\n",
      "\n",
      "\n"
     ]
    }
   ],
   "source": [
    "with open('text.txt', 'r') as file:\n",
    "    file = file.read()\n",
    "print(file)"
   ]
  },
  {
   "cell_type": "code",
   "execution_count": 9,
   "id": "e65b41de-0c5b-47e0-a501-93aaf2de6493",
   "metadata": {
    "tags": []
   },
   "outputs": [
    {
     "name": "stdout",
     "output_type": "stream",
     "text": [
      "<re.Match object; span=(4, 8), match='Negm'>\n",
      "<re.Match object; span=(53, 57), match='Negm'>\n"
     ]
    }
   ],
   "source": [
    "pattern=re.compile(\"Negm\")\n",
    "matches=pattern.finditer(file)\n",
    "for match in matches:\n",
    "    print(match)"
   ]
  },
  {
   "cell_type": "code",
   "execution_count": 24,
   "id": "fc900872-ae0b-4fb8-ac2b-2716e5a3a7f0",
   "metadata": {
    "tags": []
   },
   "outputs": [
    {
     "name": "stdout",
     "output_type": "stream",
     "text": [
      "['Amr Negm', 'Ahmed Negm', 'Sara Ahmed', 'Mohamed Salah', 'Adel Shakal']\n"
     ]
    }
   ],
   "source": [
    "pattern=re.compile(\"[A-Z][a-z]+\\s[A-Z][a-z]+\")\n",
    "matches=pattern.finditer(file)\n",
    "names=[]\n",
    "for match in matches:\n",
    "    start=match.span()[0]\n",
    "    end=match.span()[1]\n",
    "    names.append(file[start:end])\n",
    "print(names)    "
   ]
  },
  {
   "cell_type": "code",
   "execution_count": 26,
   "id": "72d2c8d7-ed46-4384-98a6-a4dc4fe5deac",
   "metadata": {
    "tags": []
   },
   "outputs": [
    {
     "name": "stdout",
     "output_type": "stream",
     "text": [
      "['01098189987', '01001550442', '01264599999', '01100020400', '01001219187']\n"
     ]
    }
   ],
   "source": [
    "pattern=re.compile(\"\\d\\d\\d\\d\\d\\d\\d\\d\\d\\d\\d\")\n",
    "matches=pattern.finditer(file)\n",
    "numbers=[]\n",
    "for match in matches:\n",
    "    start=match.span()[0]\n",
    "    end=match.span()[1]\n",
    "    numbers.append(file[start:end])\n",
    "print(numbers)    "
   ]
  },
  {
   "cell_type": "code",
   "execution_count": 25,
   "id": "7224ecdc-7826-4e07-9ae7-556a76814106",
   "metadata": {
    "tags": []
   },
   "outputs": [
    {
     "name": "stdout",
     "output_type": "stream",
     "text": [
      "['amrahmednegm153@gmail.com', 'arnegm67@gmail.com', 'saraahmed@hotmail.com', 'mosalah@gmail.com', 'adel_shakal@yahoo.com']\n"
     ]
    }
   ],
   "source": [
    "pattern=re.compile(\"\\w+@(gmail|hotmail|yahoo).com\")\n",
    "matches=pattern.finditer(file)\n",
    "emails=[]\n",
    "for match in matches:\n",
    "    start=match.span()[0]\n",
    "    end=match.span()[1]\n",
    "    emails.append(file[start:end])\n",
    "print(emails)   "
   ]
  },
  {
   "cell_type": "code",
   "execution_count": null,
   "id": "dc13121b-20d4-4ace-a959-460b96e8a4ea",
   "metadata": {},
   "outputs": [],
   "source": []
  }
 ],
 "metadata": {
  "kernelspec": {
   "display_name": "Python 3 (ipykernel)",
   "language": "python",
   "name": "python3"
  },
  "language_info": {
   "codemirror_mode": {
    "name": "ipython",
    "version": 3
   },
   "file_extension": ".py",
   "mimetype": "text/x-python",
   "name": "python",
   "nbconvert_exporter": "python",
   "pygments_lexer": "ipython3",
   "version": "3.11.3"
  }
 },
 "nbformat": 4,
 "nbformat_minor": 5
}
